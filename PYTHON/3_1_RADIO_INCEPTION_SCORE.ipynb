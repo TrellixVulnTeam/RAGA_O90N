{
 "cells": [
  {
   "cell_type": "code",
   "execution_count": 1,
   "metadata": {},
   "outputs": [],
   "source": [
    "from utils.classification_function import classfication_procedure"
   ]
  },
  {
   "cell_type": "code",
   "execution_count": 2,
   "metadata": {},
   "outputs": [],
   "source": [
    "import matplotlib.pyplot as plt\n",
    "\n",
    "\n",
    "import os\n",
    "import numpy as np\n",
    "import torch\n",
    "import torchvision.datasets as dset\n",
    "import torch.nn as nn\n",
    "import torchvision.transforms as transforms\n",
    "import torch.nn.functional as F\n",
    "import pyro\n",
    "import pyro.distributions as dist\n",
    "from pyro.infer import SVI, Trace_ELBO\n",
    "from pyro.optim import Adam,Adagrad\n",
    "import pyro.poutine as poutine\n",
    "from torchvision.utils import save_image\n",
    "\n",
    "import matplotlib.pylab as plt\n",
    "\n",
    "from PIL import Image # Module for image rotation (making use of PIL)"
   ]
  },
  {
   "cell_type": "code",
   "execution_count": 3,
   "metadata": {},
   "outputs": [],
   "source": [
    "#from utils.MiraBest import MiraBest\n",
    "from utils.MiraBest_full import MiraBest_full\n",
    "from utils.FRDEEP import FRDEEPF\n",
    "from utils.data_downloader import dataloader_first_noisy\n",
    "from utils.data_downloader import dataloader_first_FRDEEP\n",
    "\n",
    "import network_configurations.neural_net_conf_0_2_dropout as network #change this here to change configuration"
   ]
  },
  {
   "cell_type": "code",
   "execution_count": 4,
   "metadata": {
    "scrolled": false
   },
   "outputs": [
    {
     "name": "stdout",
     "output_type": "stream",
     "text": [
      "Stating Training of CNN\n",
      "Files already downloaded and verified\n",
      "stattng training\n",
      "Epoch: 0, Loss: 2.1898093223571777, Train Accuracy: 0.5300324675324676\n",
      "Epoch: 0, Loss: 0.7935073001818224, Validation Accuracy: 0.41825139379346526\n",
      "Final validation error:  58.17486062065347\n",
      "Accuracy of the network on the test images: 48 %\n",
      "Accuracy of   FRI : 100 %\n",
      "Accuracy of  FRII :  7 %\n",
      "---------------------------------------------------------------------\n",
      "Model Saved\n",
      "Epoch: 1, Loss: 1.1200904846191406, Train Accuracy: 0.557224025974026\n",
      "Epoch: 1, Loss: 0.6830770682978939, Validation Accuracy: 0.517741190226047\n",
      "Final validation error:  48.2258809773953\n",
      "Accuracy of the network on the test images: 58 %\n",
      "Accuracy of   FRI : 100 %\n",
      "Accuracy of  FRII : 25 %\n",
      "---------------------------------------------------------------------\n",
      "Model Saved\n",
      "Epoch: 2, Loss: 0.955730676651001, Train Accuracy: 0.5831574675324676\n",
      "Epoch: 2, Loss: 0.6542029321967782, Validation Accuracy: 0.5634044561293218\n",
      "Final validation error:  43.65955438706782\n",
      "Accuracy of the network on the test images: 70 %\n",
      "Accuracy of   FRI : 100 %\n",
      "Accuracy of  FRII : 46 %\n",
      "---------------------------------------------------------------------\n",
      "Model Saved\n",
      "Epoch: 3, Loss: 1.1597599983215332, Train Accuracy: 0.6066964285714286\n",
      "Epoch: 3, Loss: 0.6227919434572196, Validation Accuracy: 0.6360621559155452\n",
      "Final validation error:  36.393784408445484\n",
      "Accuracy of the network on the test images: 78 %\n",
      "Accuracy of   FRI : 95 %\n",
      "Accuracy of  FRII : 64 %\n",
      "---------------------------------------------------------------------\n",
      "Model Saved\n",
      "Epoch: 4, Loss: 0.4087759554386139, Train Accuracy: 0.6233766233766234\n",
      "Epoch: 4, Loss: 0.6067528447160473, Validation Accuracy: 0.6642393367631095\n",
      "Final validation error:  33.57606632368905\n",
      "Accuracy of the network on the test images: 82 %\n",
      "Accuracy of   FRI : 95 %\n",
      "Accuracy of  FRII : 71 %\n",
      "---------------------------------------------------------------------\n",
      "Model Saved\n",
      "Epoch: 5, Loss: 0.7141872644424438, Train Accuracy: 0.6423295454545455\n",
      "Epoch: 5, Loss: 0.5831873820973681, Validation Accuracy: 0.7087894295717214\n",
      "Final validation error:  29.121057042827857\n",
      "Accuracy of the network on the test images: 84 %\n",
      "Accuracy of   FRI : 95 %\n",
      "Accuracy of  FRII : 75 %\n",
      "---------------------------------------------------------------------\n",
      "Model Saved\n",
      "Epoch: 6, Loss: 0.7739403247833252, Train Accuracy: 0.6612418831168831\n",
      "Epoch: 6, Loss: 0.5687107230935778, Validation Accuracy: 0.7181818239100568\n",
      "Final validation error:  28.18181760899432\n",
      "Accuracy of the network on the test images: 88 %\n",
      "Accuracy of   FRI : 95 %\n",
      "Accuracy of  FRII : 82 %\n",
      "---------------------------------------------------------------------\n",
      "Model Saved\n",
      "Epoch: 7, Loss: 1.0401471853256226, Train Accuracy: 0.6726866883116883\n",
      "Epoch: 7, Loss: 0.5609119569713419, Validation Accuracy: 0.7369434197227677\n",
      "Final validation error:  26.305658027723233\n",
      "Accuracy of the network on the test images: 86 %\n",
      "Accuracy of   FRI : 90 %\n",
      "Accuracy of  FRII : 82 %\n",
      "---------------------------------------------------------------------\n",
      "Model Saved\n",
      "Epoch: 8, Loss: 0.4951328635215759, Train Accuracy: 0.6911525974025974\n",
      "Epoch: 8, Loss: 0.5519962272473744, Validation Accuracy: 0.7362476859773909\n",
      "Final validation error:  26.375231402260912\n",
      "Accuracy of the network on the test images: 86 %\n",
      "Accuracy of   FRI : 90 %\n",
      "Accuracy of  FRII : 82 %\n",
      "---------------------------------------------------------------------\n",
      "Model Saved\n",
      "Epoch: 9, Loss: 0.9313246607780457, Train Accuracy: 0.7003246753246753\n",
      "Epoch: 9, Loss: 0.5446355662175587, Validation Accuracy: 0.7456400800060916\n",
      "Final validation error:  25.43599199939084\n",
      "Accuracy of the network on the test images: 86 %\n",
      "Accuracy of   FRI : 90 %\n",
      "Accuracy of  FRII : 82 %\n",
      "---------------------------------------------------------------------\n",
      "Model Saved\n",
      "Epoch: 10, Loss: 0.5179267525672913, Train Accuracy: 0.7123782467532468\n",
      "Epoch: 10, Loss: 0.5335221644345816, Validation Accuracy: 0.7454545510279668\n",
      "Final validation error:  25.454544897203323\n",
      "Accuracy of the network on the test images: 86 %\n",
      "Accuracy of   FRI : 90 %\n",
      "Accuracy of  FRII : 82 %\n",
      "---------------------------------------------------------------------\n",
      "Model Saved\n",
      "Epoch: 11, Loss: 0.4690881371498108, Train Accuracy: 0.7206574675324675\n",
      "Epoch: 11, Loss: 0.5311057238416238, Validation Accuracy: 0.7456632703929752\n",
      "Final validation error:  25.43367296070248\n",
      "Accuracy of the network on the test images: 86 %\n",
      "Accuracy of   FRI : 90 %\n",
      "Accuracy of  FRII : 82 %\n",
      "---------------------------------------------------------------------\n",
      "Model Saved\n",
      "Epoch: 12, Loss: 0.28798097372055054, Train Accuracy: 0.7269074675324675\n",
      "Epoch: 12, Loss: 0.5224715564545099, Validation Accuracy: 0.7454545505635151\n",
      "Final validation error:  25.454544943648493\n",
      "Accuracy of the network on the test images: 86 %\n",
      "Accuracy of   FRI : 90 %\n",
      "Accuracy of  FRII : 82 %\n",
      "---------------------------------------------------------------------\n",
      "Model Saved\n",
      "Epoch: 13, Loss: 0.25290971994400024, Train Accuracy: 0.7393668831168831\n",
      "Epoch: 13, Loss: 0.5222759187995614, Validation Accuracy: 0.7448747727778051\n",
      "Final validation error:  25.512522722219487\n",
      "Accuracy of the network on the test images: 86 %\n",
      "Accuracy of   FRI : 90 %\n",
      "Accuracy of  FRII : 82 %\n",
      "---------------------------------------------------------------------\n",
      "Model Saved\n",
      "Epoch: 14, Loss: 0.5050863027572632, Train Accuracy: 0.7487824675324676\n",
      "Epoch: 14, Loss: 0.513942625383278, Validation Accuracy: 0.7545454598092414\n",
      "Final validation error:  24.545454019075862\n",
      "Accuracy of the network on the test images: 86 %\n",
      "Accuracy of   FRI : 90 %\n",
      "Accuracy of  FRII : 82 %\n",
      "---------------------------------------------------------------------\n",
      "Model Saved\n",
      "Epoch: 15, Loss: 0.4366714060306549, Train Accuracy: 0.744237012987013\n",
      "Epoch: 15, Loss: 0.5081002876743094, Validation Accuracy: 0.7816558495744482\n",
      "Final validation error:  21.83441504255518\n",
      "Accuracy of the network on the test images: 86 %\n",
      "Accuracy of   FRI : 90 %\n",
      "Accuracy of  FRII : 82 %\n",
      "---------------------------------------------------------------------\n",
      "Model Saved\n",
      "Epoch: 16, Loss: 0.5702514052391052, Train Accuracy: 0.760349025974026\n",
      "Epoch: 16, Loss: 0.5065734372123495, Validation Accuracy: 0.7811224548847644\n",
      "Final validation error:  21.88775451152356\n",
      "Accuracy of the network on the test images: 86 %\n",
      "Accuracy of   FRI : 90 %\n",
      "Accuracy of  FRII : 82 %\n",
      "---------------------------------------------------------------------\n",
      "Model Saved\n",
      "Epoch: 17, Loss: 0.476616233587265, Train Accuracy: 0.7581980519480519\n",
      "Epoch: 17, Loss: 0.5031188610312226, Validation Accuracy: 0.7816094680265947\n",
      "Final validation error:  21.83905319734053\n",
      "Accuracy of the network on the test images: 86 %\n",
      "Accuracy of   FRI : 90 %\n",
      "Accuracy of  FRII : 82 %\n",
      "---------------------------------------------------------------------\n",
      "Model Saved\n",
      "Epoch: 18, Loss: 0.5432664155960083, Train Accuracy: 0.7600649350649351\n",
      "Epoch: 18, Loss: 0.49605175539270624, Validation Accuracy: 0.7815398948533194\n",
      "Final validation error:  21.84601051466806\n",
      "Accuracy of the network on the test images: 86 %\n",
      "Accuracy of   FRI : 90 %\n",
      "Accuracy of  FRII : 82 %\n",
      "---------------------------------------------------------------------\n",
      "Model Saved\n",
      "Epoch: 19, Loss: 0.6395702362060547, Train Accuracy: 0.7730113636363637\n",
      "Epoch: 19, Loss: 0.4939895969319653, Validation Accuracy: 0.7819573345122399\n",
      "Final validation error:  21.804266548776006\n",
      "Accuracy of the network on the test images: 86 %\n",
      "Accuracy of   FRI : 90 %\n",
      "Accuracy of  FRII : 82 %\n",
      "---------------------------------------------------------------------\n",
      "Model Saved\n",
      "Epoch: 20, Loss: 0.7304407358169556, Train Accuracy: 0.7779220779220779\n",
      "Epoch: 20, Loss: 0.49421228385203847, Validation Accuracy: 0.7817949971595368\n",
      "Final validation error:  21.820500284046318\n",
      "Accuracy of the network on the test images: 86 %\n",
      "Accuracy of   FRI : 90 %\n",
      "Accuracy of  FRII : 82 %\n",
      "---------------------------------------------------------------------\n",
      "Model Saved\n",
      "Epoch: 21, Loss: 0.5904549956321716, Train Accuracy: 0.78125\n",
      "Epoch: 21, Loss: 0.4852322687769865, Validation Accuracy: 0.7816094678717774\n",
      "Final validation error:  21.839053212822257\n",
      "Accuracy of the network on the test images: 86 %\n",
      "Accuracy of   FRI : 90 %\n",
      "Accuracy of  FRII : 82 %\n",
      "---------------------------------------------------------------------\n",
      "Model Saved\n"
     ]
    },
    {
     "name": "stdout",
     "output_type": "stream",
     "text": [
      "Epoch: 22, Loss: 0.3111999034881592, Train Accuracy: 0.7810876623376624\n",
      "Epoch: 22, Loss: 0.48756554993716156, Validation Accuracy: 0.7815630853950203\n",
      "Final validation error:  21.843691460497972\n",
      "Accuracy of the network on the test images: 86 %\n",
      "Accuracy of   FRI : 90 %\n",
      "Accuracy of  FRII : 82 %\n",
      "---------------------------------------------------------------------\n",
      "Model Saved\n",
      "Epoch: 23, Loss: 0.17002274096012115, Train Accuracy: 0.7836444805194805\n",
      "Epoch: 23, Loss: 0.4858942299307167, Validation Accuracy: 0.7731447185788836\n",
      "Final validation error:  22.685528142111643\n",
      "Accuracy of the network on the test images: 86 %\n",
      "Accuracy of   FRI : 90 %\n",
      "Accuracy of  FRII : 82 %\n",
      "---------------------------------------------------------------------\n",
      "Model Saved\n",
      "Epoch: 24, Loss: 0.7708264589309692, Train Accuracy: 0.7868100649350649\n",
      "Epoch: 24, Loss: 0.48242419725888736, Validation Accuracy: 0.7818413787073903\n",
      "Final validation error:  21.815862129260964\n",
      "Accuracy of the network on the test images: 86 %\n",
      "Accuracy of   FRI : 90 %\n",
      "Accuracy of  FRII : 82 %\n",
      "---------------------------------------------------------------------\n",
      "Model Saved\n",
      "Epoch: 25, Loss: 0.14798936247825623, Train Accuracy: 0.7952516233766234\n",
      "Epoch: 25, Loss: 0.4790401252639758, Validation Accuracy: 0.7817022323608398\n",
      "Final validation error:  21.82977676391602\n",
      "Accuracy of the network on the test images: 86 %\n",
      "Accuracy of   FRI : 90 %\n",
      "Accuracy of  FRII : 82 %\n",
      "---------------------------------------------------------------------\n",
      "Model Saved\n",
      "Epoch: 26, Loss: 0.5669431090354919, Train Accuracy: 0.794237012987013\n",
      "Epoch: 26, Loss: 0.47313728214471373, Validation Accuracy: 0.7911410079373942\n",
      "Final validation error:  20.885899206260582\n",
      "Accuracy of the network on the test images: 86 %\n",
      "Accuracy of   FRI : 90 %\n",
      "Accuracy of  FRII : 82 %\n",
      "---------------------------------------------------------------------\n",
      "Model Saved\n",
      "Epoch: 27, Loss: 0.4585776627063751, Train Accuracy: 0.7990665584415585\n",
      "Epoch: 27, Loss: 0.47434840473261747, Validation Accuracy: 0.7913729190826416\n",
      "Final validation error:  20.862708091735836\n",
      "Accuracy of the network on the test images: 86 %\n",
      "Accuracy of   FRI : 90 %\n",
      "Accuracy of  FRII : 82 %\n",
      "---------------------------------------------------------------------\n",
      "Model Saved\n",
      "Epoch: 28, Loss: 0.31148386001586914, Train Accuracy: 0.7982548701298702\n",
      "Epoch: 28, Loss: 0.47416356302701035, Validation Accuracy: 0.7909090971017813\n",
      "Final validation error:  20.909090289821876\n",
      "Accuracy of the network on the test images: 86 %\n",
      "Accuracy of   FRI : 90 %\n",
      "Accuracy of  FRII : 82 %\n",
      "---------------------------------------------------------------------\n",
      "Model Saved\n",
      "Epoch: 29, Loss: 0.21486736834049225, Train Accuracy: 0.8042207792207792\n",
      "Epoch: 29, Loss: 0.47257924583051114, Validation Accuracy: 0.7913033460641836\n",
      "Final validation error:  20.869665393581638\n",
      "Accuracy of the network on the test images: 86 %\n",
      "Accuracy of   FRI : 90 %\n",
      "Accuracy of  FRII : 82 %\n",
      "---------------------------------------------------------------------\n",
      "Model Saved\n"
     ]
    }
   ],
   "source": [
    "classification_model = classfication_procedure(30)"
   ]
  },
  {
   "cell_type": "code",
   "execution_count": 5,
   "metadata": {},
   "outputs": [
    {
     "name": "stdout",
     "output_type": "stream",
     "text": [
      "Files already downloaded and verified\n"
     ]
    }
   ],
   "source": [
    "transform = transforms.Compose([\n",
    "     #    transforms.CenterCrop(28),\n",
    "    transforms.RandomRotation(0.,360.),\n",
    "    transforms.ToTensor(),\n",
    "    transforms.Normalize((0,), (1,))])\n",
    "trainset = FRDEEPF(root='./FIRST_data', train=True, download=True, transform=transform)  \n",
    "trainloader = torch.utils.data.DataLoader(trainset, shuffle=True, num_workers=2, batch_size=500)"
   ]
  },
  {
   "cell_type": "code",
   "execution_count": 6,
   "metadata": {},
   "outputs": [],
   "source": [
    "x,y = trainloader"
   ]
  },
  {
   "cell_type": "code",
   "execution_count": 7,
   "metadata": {},
   "outputs": [],
   "source": [
    "from numpy import asarray\n",
    "from numpy import expand_dims\n",
    "from numpy import log\n",
    "from numpy import mean\n",
    "from numpy import exp"
   ]
  },
  {
   "cell_type": "code",
   "execution_count": 8,
   "metadata": {},
   "outputs": [],
   "source": [
    "import numpy as np"
   ]
  },
  {
   "cell_type": "code",
   "execution_count": 9,
   "metadata": {},
   "outputs": [],
   "source": [
    "def calculate_inception_score(p_yx, eps=1E-16):\n",
    "\t# calculate p(y)\n",
    "\tp_y = expand_dims(p_yx.mean(axis=0), 0)\n",
    "\t# kl divergence for each image\n",
    "\tkl_d = p_yx * (log(p_yx + eps) - log(p_y + eps))\n",
    "\t# sum over classes\n",
    "\tsum_kl_d = kl_d.sum(axis=1)\n",
    "\t# average over images\n",
    "\tavg_kl_d = mean(sum_kl_d)\n",
    "\t# undo the logs\n",
    "\tis_score = exp(avg_kl_d)\n",
    "\treturn is_score"
   ]
  },
  {
   "cell_type": "code",
   "execution_count": 14,
   "metadata": {},
   "outputs": [
    {
     "ename": "TypeError",
     "evalue": "'float' object cannot be interpreted as an integer",
     "output_type": "error",
     "traceback": [
      "\u001b[0;31m---------------------------------------------------------------------------\u001b[0m",
      "\u001b[0;31mTypeError\u001b[0m                                 Traceback (most recent call last)",
      "\u001b[0;32m<ipython-input-14-c3f0be78e3ae>\u001b[0m in \u001b[0;36m<module>\u001b[0;34m\u001b[0m\n\u001b[1;32m      1\u001b[0m \u001b[0minception_score_noise\u001b[0m \u001b[0;34m=\u001b[0m \u001b[0;34m[\u001b[0m\u001b[0;34m]\u001b[0m\u001b[0;34m\u001b[0m\u001b[0;34m\u001b[0m\u001b[0m\n\u001b[1;32m      2\u001b[0m \u001b[0mnoise_value\u001b[0m \u001b[0;34m=\u001b[0m \u001b[0;34m[\u001b[0m\u001b[0;34m]\u001b[0m\u001b[0;34m\u001b[0m\u001b[0;34m\u001b[0m\u001b[0m\n\u001b[0;32m----> 3\u001b[0;31m \u001b[0;32mfor\u001b[0m \u001b[0malpha\u001b[0m \u001b[0;32min\u001b[0m \u001b[0mrange\u001b[0m \u001b[0;34m(\u001b[0m\u001b[0;36m0.0\u001b[0m\u001b[0;34m,\u001b[0m\u001b[0;36m1.0\u001b[0m\u001b[0;34m,\u001b[0m\u001b[0;36m0.05\u001b[0m\u001b[0;34m)\u001b[0m\u001b[0;34m:\u001b[0m\u001b[0;34m\u001b[0m\u001b[0;34m\u001b[0m\u001b[0m\n\u001b[0m\u001b[1;32m      4\u001b[0m     \u001b[0mnoise\u001b[0m\u001b[0;34m=\u001b[0m\u001b[0mnp\u001b[0m\u001b[0;34m.\u001b[0m\u001b[0mrandom\u001b[0m\u001b[0;34m.\u001b[0m\u001b[0mrandom\u001b[0m\u001b[0;34m(\u001b[0m\u001b[0;34m(\u001b[0m\u001b[0;36m500\u001b[0m\u001b[0;34m,\u001b[0m\u001b[0;36m1\u001b[0m\u001b[0;34m,\u001b[0m\u001b[0;36m150\u001b[0m\u001b[0;34m,\u001b[0m\u001b[0;36m150\u001b[0m\u001b[0;34m)\u001b[0m\u001b[0;34m)\u001b[0m\u001b[0;34m*\u001b[0m\u001b[0malpha\u001b[0m\u001b[0;34m\u001b[0m\u001b[0;34m\u001b[0m\u001b[0m\n\u001b[1;32m      5\u001b[0m     \u001b[0marray_noise\u001b[0m \u001b[0;34m=\u001b[0m \u001b[0mtorch\u001b[0m\u001b[0;34m.\u001b[0m\u001b[0mfrom_numpy\u001b[0m\u001b[0;34m(\u001b[0m\u001b[0mnoise\u001b[0m\u001b[0;34m)\u001b[0m\u001b[0;34m.\u001b[0m\u001b[0mfloat\u001b[0m\u001b[0;34m(\u001b[0m\u001b[0;34m)\u001b[0m\u001b[0;34m.\u001b[0m\u001b[0mto\u001b[0m\u001b[0;34m(\u001b[0m\u001b[0;34m\"cpu\"\u001b[0m\u001b[0;34m)\u001b[0m\u001b[0;34m\u001b[0m\u001b[0;34m\u001b[0m\u001b[0m\n",
      "\u001b[0;31mTypeError\u001b[0m: 'float' object cannot be interpreted as an integer"
     ]
    }
   ],
   "source": [
    "inception_score_noise = []\n",
    "noise_value = []\n",
    "for alpha in range (0.0,1.0,0.05):\n",
    "    noise=np.random.random((500,1,150,150))*alpha\n",
    "    array_noise = torch.from_numpy(noise).float().to(\"cpu\")\n",
    "    x_data=x[0]+array_noise\n",
    "    valid_pred = classification_model(x_data.cuda())\n",
    "    m = nn.Softmax(dim=1)\n",
    "    values=m(valid_pred).cpu().detach().numpy()\n",
    "    score = calculate_inception_score(values)\n",
    "    noise_value.append(noise)\n",
    "    inception_score_noise.append(score)"
   ]
  },
  {
   "cell_type": "code",
   "execution_count": 10,
   "metadata": {},
   "outputs": [],
   "source": [
    "#def cropping_score(edge_size,x):\n",
    "\n",
    "inception_score = []\n",
    "edge_value = []\n",
    "for i in range(0,75,1):\n",
    "    fullsize_image = np.zeros((500,1,150,150))\n",
    "    edge = i\n",
    "    for i in range (0,500):\n",
    "        x_tocrp = x[0][i,0,:,:].cpu().detach().numpy()\n",
    "        fullsize_image[i,0,edge:150-edge,edge:150-edge]=x_tocrp[edge:150-edge,edge:150-edge]\n",
    "    image_to_test = torch.from_numpy(fullsize_image).float().to(\"cuda:0\")\n",
    "\n",
    "    valid_pred = classification_model(image_to_test)\n",
    "    m = nn.Softmax(dim=1)\n",
    "    values=m(valid_pred).cpu().detach().numpy()\n",
    "    score = calculate_inception_score(values)\n",
    "    inception_score.append(score)\n",
    "    edge_value.append(edge)"
   ]
  },
  {
   "cell_type": "code",
   "execution_count": 26,
   "metadata": {},
   "outputs": [
    {
     "data": {
      "text/plain": [
       "[0,\n",
       " 1,\n",
       " 2,\n",
       " 3,\n",
       " 4,\n",
       " 5,\n",
       " 6,\n",
       " 7,\n",
       " 8,\n",
       " 9,\n",
       " 10,\n",
       " 11,\n",
       " 12,\n",
       " 13,\n",
       " 14,\n",
       " 15,\n",
       " 16,\n",
       " 17,\n",
       " 18,\n",
       " 19,\n",
       " 20,\n",
       " 21,\n",
       " 22,\n",
       " 23,\n",
       " 24,\n",
       " 25,\n",
       " 26,\n",
       " 27,\n",
       " 28,\n",
       " 29,\n",
       " 30,\n",
       " 31,\n",
       " 32,\n",
       " 33,\n",
       " 34,\n",
       " 35,\n",
       " 36,\n",
       " 37,\n",
       " 38,\n",
       " 39,\n",
       " 40,\n",
       " 41,\n",
       " 42,\n",
       " 43,\n",
       " 44,\n",
       " 45,\n",
       " 46,\n",
       " 47,\n",
       " 48,\n",
       " 49,\n",
       " 50,\n",
       " 51,\n",
       " 52,\n",
       " 53,\n",
       " 54,\n",
       " 55,\n",
       " 56,\n",
       " 57,\n",
       " 58,\n",
       " 59,\n",
       " 60,\n",
       " 61,\n",
       " 62,\n",
       " 63,\n",
       " 64,\n",
       " 65,\n",
       " 66,\n",
       " 67,\n",
       " 68,\n",
       " 69,\n",
       " 70,\n",
       " 71,\n",
       " 72,\n",
       " 73,\n",
       " 74]"
      ]
     },
     "execution_count": 26,
     "metadata": {},
     "output_type": "execute_result"
    }
   ],
   "source": [
    "edge_value"
   ]
  },
  {
   "cell_type": "code",
   "execution_count": 27,
   "metadata": {},
   "outputs": [
    {
     "data": {
      "text/plain": [
       "[1.3892423,\n",
       " 1.3887277,\n",
       " 1.3868738,\n",
       " 1.3840255,\n",
       " 1.3811108,\n",
       " 1.3772914,\n",
       " 1.3747144,\n",
       " 1.3722751,\n",
       " 1.3677453,\n",
       " 1.3638283,\n",
       " 1.3612721,\n",
       " 1.3539107,\n",
       " 1.3485335,\n",
       " 1.3428478,\n",
       " 1.3359785,\n",
       " 1.3314878,\n",
       " 1.325557,\n",
       " 1.3190933,\n",
       " 1.3115635,\n",
       " 1.3048303,\n",
       " 1.2978019,\n",
       " 1.2889397,\n",
       " 1.2790467,\n",
       " 1.2702991,\n",
       " 1.2604904,\n",
       " 1.2494091,\n",
       " 1.2404444,\n",
       " 1.2249676,\n",
       " 1.213203,\n",
       " 1.2031481,\n",
       " 1.1939538,\n",
       " 1.1817819,\n",
       " 1.169705,\n",
       " 1.1647525,\n",
       " 1.1587654,\n",
       " 1.1472654,\n",
       " 1.1376361,\n",
       " 1.1299292,\n",
       " 1.1232424,\n",
       " 1.1129118,\n",
       " 1.106492,\n",
       " 1.0975602,\n",
       " 1.093135,\n",
       " 1.0848924,\n",
       " 1.080625,\n",
       " 1.0746707,\n",
       " 1.0713314,\n",
       " 1.0689217,\n",
       " 1.066286,\n",
       " 1.0625333,\n",
       " 1.0607952,\n",
       " 1.0569121,\n",
       " 1.0566458,\n",
       " 1.0548253,\n",
       " 1.0534524,\n",
       " 1.0512549,\n",
       " 1.0511403,\n",
       " 1.0500991,\n",
       " 1.0508416,\n",
       " 1.0512846,\n",
       " 1.0510651,\n",
       " 1.0507002,\n",
       " 1.049683,\n",
       " 1.0483646,\n",
       " 1.047116,\n",
       " 1.051159,\n",
       " 1.0536503,\n",
       " 1.0586516,\n",
       " 1.0602344,\n",
       " 1.0694704,\n",
       " 1.0801605,\n",
       " 1.0851156,\n",
       " 1.1054928,\n",
       " 1.097591,\n",
       " 1.1159741]"
      ]
     },
     "execution_count": 27,
     "metadata": {},
     "output_type": "execute_result"
    }
   ],
   "source": [
    "inception_score"
   ]
  },
  {
   "cell_type": "code",
   "execution_count": 11,
   "metadata": {},
   "outputs": [
    {
     "data": {
      "text/plain": [
       "[<matplotlib.lines.Line2D at 0x7f2511686a58>]"
      ]
     },
     "execution_count": 11,
     "metadata": {},
     "output_type": "execute_result"
    },
    {
     "data": {
      "image/png": "[encoded data removed]",
      "text/plain": [
       "<Figure size 432x288 with 1 Axes>"
      ]
     },
     "metadata": {
      "needs_background": "light"
     },
     "output_type": "display_data"
    }
   ],
   "source": [
    "plt.plot(edge_value,inception_score,'+-')"
   ]
  },
  {
   "cell_type": "code",
   "execution_count": 5,
   "metadata": {},
   "outputs": [],
   "source": []
  },
  {
   "cell_type": "code",
   "execution_count": 15,
   "metadata": {},
   "outputs": [],
   "source": [
    "p_yx=asarray([[0.33, 0.33, 0.33],[1,1,1]])"
   ]
  },
  {
   "cell_type": "code",
   "execution_count": 16,
   "metadata": {},
   "outputs": [],
   "source": [
    "from numpy import expand_dims,asarray"
   ]
  },
  {
   "cell_type": "code",
   "execution_count": 17,
   "metadata": {},
   "outputs": [],
   "source": [
    "p_y = expand_dims(p_yx.mean(axis=0), 0)"
   ]
  },
  {
   "cell_type": "code",
   "execution_count": 18,
   "metadata": {},
   "outputs": [
    {
     "data": {
      "text/plain": [
       "array([[0.665, 0.665, 0.665]])"
      ]
     },
     "execution_count": 18,
     "metadata": {},
     "output_type": "execute_result"
    }
   ],
   "source": [
    "p_y"
   ]
  },
  {
   "cell_type": "code",
   "execution_count": null,
   "metadata": {},
   "outputs": [],
   "source": []
  }
 ],
 "metadata": {
  "kernelspec": {
   "display_name": "Python 3",
   "language": "python",
   "name": "python3"
  },
  "language_info": {
   "codemirror_mode": {
    "name": "ipython",
    "version": 3
   },
   "file_extension": ".py",
   "mimetype": "text/x-python",
   "name": "python",
   "nbconvert_exporter": "python",
   "pygments_lexer": "ipython3",
   "version": "3.6.9"
  }
 },
 "nbformat": 4,
 "nbformat_minor": 4
}
