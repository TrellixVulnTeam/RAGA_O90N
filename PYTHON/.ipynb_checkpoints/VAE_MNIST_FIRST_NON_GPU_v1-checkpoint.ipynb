{
 "cells": [
  {
   "cell_type": "markdown",
   "metadata": {},
   "source": [
    "# Supervised Variational Auto Encoder - Version 1"
   ]
  },
  {
   "cell_type": "code",
   "execution_count": 251,
   "metadata": {},
   "outputs": [],
   "source": [
    "import os\n",
    "\n",
    "import numpy as np\n",
    "import torch\n",
    "import torchvision.datasets as dset\n",
    "import torch.nn as nn\n",
    "import torchvision.transforms as transforms\n",
    "\n",
    "import pyro\n",
    "import pyro.distributions as dist\n",
    "from pyro.infer import SVI, Trace_ELBO, TraceEnum_ELBO, config_enumerate\n",
    "from pyro.optim import Adam"
   ]
  },
  {
   "cell_type": "code",
   "execution_count": 252,
   "metadata": {},
   "outputs": [],
   "source": [
    "import matplotlib.pyplot as plt"
   ]
  },
  {
   "cell_type": "code",
   "execution_count": 414,
   "metadata": {},
   "outputs": [
    {
     "data": {
      "text/plain": [
       "'0.4.1'"
      ]
     },
     "execution_count": 414,
     "metadata": {},
     "output_type": "execute_result"
    }
   ],
   "source": [
    "pyro.__version__"
   ]
  },
  {
   "cell_type": "code",
   "execution_count": 331,
   "metadata": {},
   "outputs": [],
   "source": [
    "pyro.enable_validation(True)\n",
    "pyro.distributions.enable_validation(False)\n",
    "pyro.set_rng_seed(0)\n",
    "# Enable smoke test - run the notebook cells on CI.\n",
    "smoke_test = 'CI' in os.environ"
   ]
  },
  {
   "cell_type": "code",
   "execution_count": 403,
   "metadata": {},
   "outputs": [],
   "source": [
    "# for loading and batching MNIST dataset\n",
    "def setup_data_loaders(batch_size=128, use_cuda=True):\n",
    "    root = './data'\n",
    "    download = True\n",
    "    trans = transforms.ToTensor()\n",
    "    train_set = dset.MNIST(root=root, train=True, transform=trans,\n",
    "                           download=download)\n",
    "    test_set = dset.MNIST(root=root, train=False, transform=trans)\n",
    "\n",
    "    kwargs = {'num_workers': 1, 'pin_memory': use_cuda}\n",
    "    train_loader = torch.utils.data.DataLoader(dataset=train_set,\n",
    "        batch_size=batch_size, shuffle=True, **kwargs)\n",
    "    test_loader = torch.utils.data.DataLoader(dataset=test_set,\n",
    "        batch_size=batch_size, shuffle=False, **kwargs)\n",
    "    return train_loader, test_loader"
   ]
  },
  {
   "cell_type": "code",
   "execution_count": 404,
   "metadata": {},
   "outputs": [],
   "source": [
    "class EncoderZ(nn.Module):\n",
    "    #def __init__(self, z_dim, hidden_dim):\n",
    "    def __init__(self, x_dim, y_dim, h_dim, z_dim):\n",
    "        super(EncoderZ, self).__init__()\n",
    "        # setup the three linear transformations used\n",
    "        #have to here define the fully connected layers - 784 to 400\n",
    "        #400 to 2\n",
    "        \n",
    "        # setup the non-linearities\n",
    "        self.fc1 = nn.Linear(x_dim+y_dim, h_dim)  \n",
    "        self.fc21 = nn.Linear(h_dim, z_dim) \n",
    "        self.fc22 = nn.Linear(h_dim, z_dim)\n",
    "        \n",
    "        self.softplus = nn.Softplus()\n",
    "\n",
    "    def forward(self, x_y_2):\n",
    "        [x,y]=x_y_2\n",
    "        x = x.reshape(-1, 784) #@David Change this to reshape if something fucks up\n",
    "        y = y.reshape(-1, 10) #@David Change this to reshape if something fucks up\n",
    "        x_y_1 = torch.cat((x,y), dim=1) #I think that this should concatenate the two inputs if this does work then test it independenlty\n",
    "        x_y_1 = x_y_1.view(x_y_1.size(0), -1)\n",
    "        \n",
    "        hidden = self.softplus(self.fc1(x_y_1))\n",
    "        \n",
    "        z_loc = self.fc21(hidden)\n",
    "        z_scale = torch.exp(self.fc22(hidden)) # mu, log_var\n",
    "        return z_loc, z_scale"
   ]
  },
  {
   "cell_type": "code",
   "execution_count": 405,
   "metadata": {},
   "outputs": [],
   "source": [
    "class Decoder(nn.Module):\n",
    "    def __init__(self, x_dim, y_dim, h_dim, z_dim):\n",
    "        super(Decoder, self).__init__()\n",
    "        # setup the two linear transformations used\n",
    "        self.fc1 = nn.Linear(z_dim+y_dim, h_dim)\n",
    "        self.fc21 = nn.Linear(h_dim, x_dim)\n",
    "        # setup the non-linearities\n",
    "        self.softplus = nn.Softplus()\n",
    "        self.sigmoid = nn.Sigmoid()\n",
    "\n",
    "    def forward(self,z_y_2):\n",
    "        # define the forward computation on the latent z\n",
    "        # first compute the hidden units\n",
    "        \n",
    "        [z,y]=z_y_2\n",
    "        \n",
    "        z = z.reshape(-1, 2) #@David Change this to reshape if something fucks up\n",
    "        y = y.reshape(-1, 10)\n",
    "        z_y_1 = torch.cat((z,y), dim=1)\n",
    "        z_y_1 = z_y_1.view(z_y_1.size(0), -1)\n",
    "        hidden = self.softplus(self.fc1(z_y_1))\n",
    "        # return the parameter for the output Bernoulli\n",
    "        # each is of size batch_size x 784\n",
    "        loc_img = self.sigmoid(self.fc21(hidden))\n",
    "        return loc_img"
   ]
  },
  {
   "cell_type": "code",
   "execution_count": 406,
   "metadata": {},
   "outputs": [],
   "source": [
    "class VAE(nn.Module):\n",
    "    # by default our latent space is 50-dimensional\n",
    "    # and we use 400 hidden units\n",
    "    def __init__(self, x_dim = 784, y_dim = 10, h_dim = 500, z_dim = 2,use_cuda=True):\n",
    "        super(VAE, self).__init__()\n",
    "    \n",
    "        # create the encoder and decoder networks\n",
    "        # a split in the final layer's size is used for multiple outputs\n",
    "        # and potentially applying separate activation functions on them\n",
    "        # e.g. in this network the final output is of size [z_dim,z_dim]\n",
    "        # to produce loc and scale, and apply different activations [None,Exp] on them\n",
    "              \n",
    "        self.encoder_z = EncoderZ(x_dim, y_dim, h_dim, z_dim)\n",
    "        \n",
    "        self.decoder = Decoder(x_dim, y_dim, h_dim, z_dim)\n",
    "\n",
    "        if use_cuda:\n",
    "            # calling cuda() here will put all the parameters of\n",
    "            # the encoder and decoder networks into gpu memory\n",
    "            self.cuda()\n",
    "            \n",
    "            \n",
    "        self.use_cuda = use_cuda\n",
    "        self.z_dim = z_dim\n",
    "        self.output_size = y_dim\n",
    "        \n",
    "        \n",
    "    # define the model p(x|z)p(z)\n",
    "    def model(self, xs, ys):\n",
    "        # register this pytorch module and all of its sub-modules with pyro\n",
    "        pyro.module(\"ss_vae\", self)\n",
    "        batch_size = xs.size(0)\n",
    "\n",
    "        # inform Pyro that the variables in the batch of xs, ys are conditionally independent\n",
    "        with pyro.plate(\"data\"):\n",
    "\n",
    "            # sample the handwriting style from the constant prior distribution\n",
    "            prior_loc = xs.new_zeros([batch_size, self.z_dim])\n",
    "            prior_scale = xs.new_ones([batch_size, self.z_dim])\n",
    "            zs = pyro.sample(\"z\", dist.Normal(prior_loc, prior_scale).to_event(1))\n",
    "\n",
    "            # if the label y (which digit to write) is supervised, sample from the\n",
    "            # constant prior, otherwise, observe the value (i.e. score it against the constant prior)\n",
    "            alpha_prior = xs.new_ones([batch_size, self.output_size]) / (1.0 * self.output_size)\n",
    "            ys = pyro.sample(\"y\", dist.OneHotCategorical(alpha_prior), obs=ys)\n",
    "            \n",
    "            # finally, score the image (x) using the handwriting style (z) and\n",
    "            # the class label y (which digit to write) against the\n",
    "            # parametrized distribution p(x|y,z) = bernoulli(decoder(y,z))\n",
    "            # where `decoder` is a neural network\n",
    "            loc = self.decoder.forward([zs, ys])\n",
    "            pyro.sample(\"x\", dist.Bernoulli(loc).to_event(1), obs=xs)\n",
    "            \n",
    "    def guide(self, xs, ys):\n",
    "        with pyro.plate(\"data\"):\n",
    "           # if the class label (the digit) is not supervised, sample\n",
    "           # (and score) the digit with the variational distribution\n",
    "           # q(y|x) = categorical(alpha(x))\n",
    "           \n",
    "            #-------------------REMOVED THIS PART FOR THE CLASSIFIER ASSUME ALL DATA ARE LABELLED---------\n",
    "\n",
    "           # sample (and score) the latent handwriting-style with the variational\n",
    "           # distribution q(z|x,y) = normal(loc(x,y),scale(x,y))\n",
    "           loc, scale = self.encoder_z.forward([xs, ys])\n",
    "           pyro.sample(\"z\", dist.Normal(loc, scale).to_event(1))\n",
    "\n",
    "    # define a helper function for reconstructing images\n",
    "    def reconstruct_img(self, xs, ys):\n",
    "        # encode image x\n",
    "        z_loc, z_scale = self.encoder_z.forward([xs,ys])\n",
    "        # sample in latent space\n",
    "        z = dist.Normal(z_loc, z_scale).sample()\n",
    "        # decode the image (note we don't sample in image space)\n",
    "        loc_img = self.decoder.forward([zs,ys])\n",
    "        \n",
    "        return loc_img"
   ]
  },
  {
   "cell_type": "code",
   "execution_count": 410,
   "metadata": {},
   "outputs": [],
   "source": [
    "def train(svi, train_loader, use_cuda=True):\n",
    "    # initialize loss accumulator\n",
    "    epoch_loss = 0.\n",
    "    # do a training epoch over each mini-batch x returned\n",
    "    # by the data loader\n",
    "    for x, y in train_loader:\n",
    "        # if on GPU put mini-batch into CUDA memory\n",
    "        if use_cuda:\n",
    "            x = x.cuda()\n",
    "        # do ELBO gradient and accumulate loss\n",
    "        labels_y = torch.tensor(np.zeros((y.shape[0],10)))\n",
    "        for j in range (0,y.shape[0]):\n",
    "            labels_y[j,int(y[j].numpy())] = 1\n",
    "        epoch_loss += svi.step(x.reshape(-1,784),labels_y.float())\n",
    "\n",
    "    # return epoch loss\n",
    "    normalizer_train = len(train_loader.dataset)\n",
    "    total_epoch_loss_train = epoch_loss / normalizer_train\n",
    "    return total_epoch_loss_train"
   ]
  },
  {
   "cell_type": "code",
   "execution_count": 419,
   "metadata": {},
   "outputs": [],
   "source": [
    "# Run options\n",
    "LEARNING_RATE = 1.0e-3\n",
    "USE_CUDA = False\n",
    "\n",
    "# Run only for a single iteration for testing\n",
    "NUM_EPOCHS = 1 if smoke_test else 50\n",
    "TEST_FREQUENCY = 5"
   ]
  },
  {
   "cell_type": "code",
   "execution_count": 420,
   "metadata": {
    "scrolled": false
   },
   "outputs": [
    {
     "name": "stdout",
     "output_type": "stream",
     "text": [
      "[epoch 000]  average training loss: 216.9260\n",
      "[epoch 001]  average training loss: 179.4542\n",
      "[epoch 002]  average training loss: 171.1694\n",
      "[epoch 003]  average training loss: 165.3247\n",
      "[epoch 004]  average training loss: 161.0235\n",
      "[epoch 005]  average training loss: 158.2552\n",
      "[epoch 006]  average training loss: 156.2076\n",
      "[epoch 007]  average training loss: 154.4524\n",
      "[epoch 008]  average training loss: 152.7730\n",
      "[epoch 009]  average training loss: 151.2435\n",
      "[epoch 010]  average training loss: 149.9963\n",
      "[epoch 011]  average training loss: 148.9709\n",
      "[epoch 012]  average training loss: 148.1016\n",
      "[epoch 013]  average training loss: 147.3774\n",
      "[epoch 014]  average training loss: 146.7372\n",
      "[epoch 015]  average training loss: 146.1686\n",
      "[epoch 016]  average training loss: 145.6654\n",
      "[epoch 017]  average training loss: 145.2398\n",
      "[epoch 018]  average training loss: 144.8295\n",
      "[epoch 019]  average training loss: 144.4458\n",
      "[epoch 020]  average training loss: 144.1104\n",
      "[epoch 021]  average training loss: 143.7935\n",
      "[epoch 022]  average training loss: 143.5292\n",
      "[epoch 023]  average training loss: 143.2726\n",
      "[epoch 024]  average training loss: 143.0337\n",
      "[epoch 025]  average training loss: 142.8110\n",
      "[epoch 026]  average training loss: 142.6219\n",
      "[epoch 027]  average training loss: 142.4242\n",
      "[epoch 028]  average training loss: 142.2509\n",
      "[epoch 029]  average training loss: 142.0754\n",
      "[epoch 030]  average training loss: 141.9210\n",
      "[epoch 031]  average training loss: 141.7773\n",
      "[epoch 032]  average training loss: 141.6488\n",
      "[epoch 033]  average training loss: 141.5120\n",
      "[epoch 034]  average training loss: 141.3749\n",
      "[epoch 035]  average training loss: 141.2448\n",
      "[epoch 036]  average training loss: 141.1336\n",
      "[epoch 037]  average training loss: 141.0024\n",
      "[epoch 038]  average training loss: 140.8954\n",
      "[epoch 039]  average training loss: 140.7813\n",
      "[epoch 040]  average training loss: 140.6685\n",
      "[epoch 041]  average training loss: 140.5561\n",
      "[epoch 042]  average training loss: 140.4593\n",
      "[epoch 043]  average training loss: 140.3443\n",
      "[epoch 044]  average training loss: 140.2357\n",
      "[epoch 045]  average training loss: 140.1423\n",
      "[epoch 046]  average training loss: 140.0199\n",
      "[epoch 047]  average training loss: 139.9174\n",
      "[epoch 048]  average training loss: 139.8358\n",
      "[epoch 049]  average training loss: 139.7196\n"
     ]
    }
   ],
   "source": [
    "train_loader, test_loader = setup_data_loaders(batch_size=256, use_cuda=USE_CUDA)\n",
    "\n",
    "# clear param store\n",
    "pyro.clear_param_store()\n",
    "\n",
    "# setup the VAE\n",
    "vae = VAE(use_cuda=USE_CUDA)\n",
    "\n",
    "# setup the optimizer\n",
    "adam_params = {\"lr\": 0.0003}\n",
    "optimizer = Adam(adam_params)\n",
    "\n",
    "# setup the inference algorithm\n",
    "svi_aux = SVI(model_classify, guide_classify, optimizer, loss=Trace_ELBO())\n",
    "\n",
    "svi = SVI(vae.model, vae.guide, optimizer, loss=Trace_ELBO())\n",
    "\n",
    "\n",
    "train_elbo = []\n",
    "test_elbo = []\n",
    "# training loop\n",
    "for epoch in range(NUM_EPOCHS):\n",
    "    total_epoch_loss_train = train(svi, train_loader, use_cuda=USE_CUDA)\n",
    "    \n",
    "    train_elbo.append(-total_epoch_loss_train)\n",
    "    print(\"[epoch %03d]  average training loss: %.4f\" % (epoch, total_epoch_loss_train))"
   ]
  },
  {
   "cell_type": "code",
   "execution_count": 369,
   "metadata": {},
   "outputs": [],
   "source": [
    "def single_image_sampler(z0=0.0,z1=0.0, z2=0.0, z3=0.0, z4=0.0, z5=0.0, z6=0.0, z7=0.0, z8=0.0, z9=0.0):\n",
    "    z = torch.rand(1,10)\n",
    "    z[0,0]=z0\n",
    "    z[0,1]=z1\n",
    "    z[0,2]=z2\n",
    "    z[0,3]=z3\n",
    "    z[0,4]=z4\n",
    "    z[0,5]=z5   \n",
    "    z[0,6]=z6\n",
    "    z[0,7]=z7    \n",
    "    z[0,8]=z8\n",
    "    z[0,9]=z9\n",
    "    labels_y = torch.tensor(np.zeros((10)))\n",
    "    labels_y[0] = 1\n",
    "    single_sample_image = vae.decoder([z,labels_y.float()])\n",
    "    image_array_single =single_sample_image.reshape(28,28).cpu().detach().numpy()\n",
    "    temp_array=image_array_single\n",
    "  #  plt.figure(figsize = (10,10))\n",
    "  #  plt.imshow(image_array_single)\n",
    " #   plt.colorbar()\n",
    " #   plt.show() \n",
    "    return image_array_single"
   ]
  },
  {
   "cell_type": "code",
   "execution_count": 370,
   "metadata": {},
   "outputs": [
    {
     "data": {
      "image/png": "[encoded data removed]",
      "text/plain": [
       "<Figure size 432x288 with 1 Axes>"
      ]
     },
     "metadata": {
      "needs_background": "light"
     },
     "output_type": "display_data"
    }
   ],
   "source": [
    "rand_0 = np.random.uniform(-2,2)\n",
    "rand_1 = np.random.uniform(-2,2)\n",
    "rand_2 = np.random.uniform(-0.5,0.5)\n",
    "rand_3 = np.random.uniform(-0.2,0.4)\n",
    "rand_4 = np.random.uniform(-1,1)\n",
    "rand_5 = np.random.uniform(-0.1,0.1)\n",
    "rand_6 = np.random.uniform(-0.1,0.2)\n",
    "rand_7 = np.random.uniform(-2.3,2.5)\n",
    "rand_8 = np.random.uniform(-0.2,0.2)\n",
    "rand_9 = np.random.uniform(-0.2,0.2)\n",
    "image = single_image_sampler(rand_0,rand_1,rand_2,rand_3,rand_4,rand_5,rand_6,rand_7,rand_8,rand_9)\n",
    "img_max = image.max() \n",
    "plt.imshow(image)\n",
    "plt.show()"
   ]
  },
  {
   "cell_type": "code",
   "execution_count": 418,
   "metadata": {},
   "outputs": [],
   "source": [
    "from torchvision.utils import save_image\n",
    "number=9\n",
    "with torch.no_grad():\n",
    "    count = 0\n",
    "    z = torch.randn(100, 2)\n",
    "    labels_y = torch.tensor(np.zeros((100,10)))\n",
    "    for i in range (0,10):\n",
    "        for j in range (0,10):\n",
    "            z[count,0]=np.random.uniform(-2,2)\n",
    "            z[count,1]=np.random.uniform(-2,2)\n",
    "            labels_y[count,8] = 1\n",
    "            labels_y[count,0] = 1\n",
    "            count = count +1 \n",
    "        \n",
    "    sample = vae.decoder([z,labels_y.float()])\n",
    "    \n",
    "    save_image(sample.view(100, 1, 28, 28), str(number)+'_sample_z_space_' +str(epoch)+'.png',nrow=10)"
   ]
  },
  {
   "cell_type": "code",
   "execution_count": null,
   "metadata": {},
   "outputs": [],
   "source": []
  }
 ],
 "metadata": {
  "kernelspec": {
   "display_name": "Python 3",
   "language": "python",
   "name": "python3"
  },
  "language_info": {
   "codemirror_mode": {
    "name": "ipython",
    "version": 3
   },
   "file_extension": ".py",
   "mimetype": "text/x-python",
   "name": "python",
   "nbconvert_exporter": "python",
   "pygments_lexer": "ipython3",
   "version": "3.6.9"
  }
 },
 "nbformat": 4,
 "nbformat_minor": 2
}
