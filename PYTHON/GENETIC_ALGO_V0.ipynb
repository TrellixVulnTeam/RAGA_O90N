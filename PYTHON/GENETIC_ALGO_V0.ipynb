{
 "cells": [
  {
   "cell_type": "code",
   "execution_count": 13,
   "metadata": {},
   "outputs": [],
   "source": [
    "equation_inputs = [4, -2, 3.5, 5, -11, -4.6]"
   ]
  },
  {
   "cell_type": "code",
   "execution_count": 2,
   "metadata": {},
   "outputs": [],
   "source": [
    "num_weights = 6"
   ]
  },
  {
   "cell_type": "code",
   "execution_count": 15,
   "metadata": {},
   "outputs": [],
   "source": [
    "import numpy\n",
    "\n",
    "sol_per_pop = 8\n",
    "\n",
    "num_parents_mating = 4\n",
    "\n",
    "pop_size = (sol_per_pop,num_weights)"
   ]
  },
  {
   "cell_type": "code",
   "execution_count": 16,
   "metadata": {},
   "outputs": [],
   "source": [
    "new_population = numpy.random.uniform(low=-4.0, high=4.0, size=pop_size)"
   ]
  },
  {
   "cell_type": "code",
   "execution_count": 17,
   "metadata": {},
   "outputs": [
    {
     "data": {
      "text/plain": [
       "array([[ 0.25457208, -2.29377695, -0.24961091, -3.09746895, -0.23304951,\n",
       "         1.91095048],\n",
       "       [-2.87166673, -3.92255686, -1.75320677,  0.6612506 ,  2.74156941,\n",
       "        -3.05243712],\n",
       "       [ 0.10803238,  1.43823761, -3.96588457, -1.87331191,  3.15941736,\n",
       "        -2.28773428],\n",
       "       [ 0.98983352, -1.82283799,  2.69799214, -1.81536121,  2.33156236,\n",
       "        -2.78094861],\n",
       "       [-0.63767296, -1.78472939,  1.73482291, -3.63948048,  3.90993373,\n",
       "         1.81181582],\n",
       "       [ 2.77159943,  3.90934463, -0.76832415,  3.92037127,  0.4147867 ,\n",
       "        -0.56605624],\n",
       "       [-2.10900544, -3.24416845,  2.00193295,  1.36415681, -1.98070599,\n",
       "         0.88809948],\n",
       "       [ 0.08481834,  1.40512833,  2.72712152,  1.00313659, -3.55736795,\n",
       "        -1.53629113]])"
      ]
     },
     "execution_count": 17,
     "metadata": {},
     "output_type": "execute_result"
    }
   ],
   "source": [
    "new_population"
   ]
  },
  {
   "cell_type": "code",
   "execution_count": 18,
   "metadata": {},
   "outputs": [],
   "source": [
    "import ga"
   ]
  },
  {
   "cell_type": "code",
   "execution_count": 19,
   "metadata": {},
   "outputs": [],
   "source": [
    "num_generations = 5"
   ]
  },
  {
   "cell_type": "code",
   "execution_count": 20,
   "metadata": {},
   "outputs": [
    {
     "name": "stdout",
     "output_type": "stream",
     "text": [
      "Generation :  0\n",
      "Best result :  58.287611623350486\n",
      "Generation :  1\n",
      "Best result :  58.287611623350486\n",
      "Generation :  2\n",
      "Best result :  69.22436384747306\n",
      "Generation :  3\n",
      "Best result :  74.47669229606521\n",
      "Generation :  4\n",
      "Best result :  74.47669229606521\n"
     ]
    }
   ],
   "source": [
    "for generation in range(num_generations):\n",
    "    print(\"Generation : \", generation)\n",
    "    # Measing the fitness of each chromosome in the population.\n",
    "    fitness = ga.cal_pop_fitness(equation_inputs, new_population)\n",
    "\n",
    "    # Selecting the best parents in the population for mating.\n",
    "    parents = ga.select_mating_pool(new_population, fitness, \n",
    "                                      num_parents_mating)\n",
    "\n",
    "    # Generating next generation using crossover.\n",
    "    offspring_crossover = ga.crossover(parents,\n",
    "                                       offspring_size=(pop_size[0]-parents.shape[0], num_weights))\n",
    "\n",
    "    # Adding some variations to the offsrping using mutation.\n",
    "    offspring_mutation = ga.mutation(offspring_crossover)\n",
    "\n",
    "    # Creating the new population based on the parents and offspring.\n",
    "    new_population[0:parents.shape[0], :] = parents\n",
    "    new_population[parents.shape[0]:, :] = offspring_mutation\n",
    "\n",
    "    # The best result in the current iteration.\n",
    "    print(\"Best result : \", numpy.max(numpy.sum(new_population*equation_inputs, axis=1)))"
   ]
  },
  {
   "cell_type": "code",
   "execution_count": 21,
   "metadata": {},
   "outputs": [
    {
     "name": "stdout",
     "output_type": "stream",
     "text": [
      "Best solution :  [[[ 0.98983352 -1.82283799  2.69799214  1.00313659 -4.1223716\n",
      "   -1.53629113]]]\n",
      "Best solution fitness :  [74.4766923]\n"
     ]
    }
   ],
   "source": [
    "# Getting the best solution after iterating finishing all generations.\n",
    "#At first, the fitness is calculated for each solution in the final generation.\n",
    "fitness = ga.cal_pop_fitness(equation_inputs, new_population)\n",
    "# Then return the index of that solution corresponding to the best fitness.\n",
    "best_match_idx = numpy.where(fitness == numpy.max(fitness))\n",
    "\n",
    "print(\"Best solution : \", new_population[best_match_idx, :])\n",
    "print(\"Best solution fitness : \", fitness[best_match_idx])"
   ]
  },
  {
   "cell_type": "code",
   "execution_count": null,
   "metadata": {},
   "outputs": [],
   "source": []
  }
 ],
 "metadata": {
  "kernelspec": {
   "display_name": "Python 3",
   "language": "python",
   "name": "python3"
  },
  "language_info": {
   "codemirror_mode": {
    "name": "ipython",
    "version": 3
   },
   "file_extension": ".py",
   "mimetype": "text/x-python",
   "name": "python",
   "nbconvert_exporter": "python",
   "pygments_lexer": "ipython3",
   "version": "3.6.9"
  }
 },
 "nbformat": 4,
 "nbformat_minor": 4
}
